{
 "cells": [
  {
   "cell_type": "code",
   "execution_count": 1,
   "metadata": {},
   "outputs": [],
   "source": [
    "touch test"
   ]
  },
  {
   "cell_type": "code",
   "execution_count": 2,
   "metadata": {},
   "outputs": [
    {
     "name": "stdout",
     "output_type": "stream",
     "text": [
      "-rw-r--r-- 1 jupyter-orissim jupyter-orissim 0 Apr  8 21:55 test\n"
     ]
    }
   ],
   "source": [
    "ls -l test"
   ]
  },
  {
   "cell_type": "code",
   "execution_count": 3,
   "metadata": {},
   "outputs": [],
   "source": [
    "chmod 542 test"
   ]
  },
  {
   "cell_type": "code",
   "execution_count": 4,
   "metadata": {},
   "outputs": [
    {
     "name": "stdout",
     "output_type": "stream",
     "text": [
      "-r-xr---w- 1 jupyter-orissim jupyter-orissim 0 Apr  8 21:55 test\n"
     ]
    }
   ],
   "source": [
    "ls -l test"
   ]
  },
  {
   "cell_type": "code",
   "execution_count": 5,
   "metadata": {},
   "outputs": [],
   "source": [
    "chmod 421 test"
   ]
  },
  {
   "cell_type": "code",
   "execution_count": 6,
   "metadata": {},
   "outputs": [
    {
     "name": "stdout",
     "output_type": "stream",
     "text": [
      "-r---w---x 1 jupyter-orissim jupyter-orissim 0 Apr  8 21:55 test\n"
     ]
    }
   ],
   "source": [
    "ls -l test"
   ]
  },
  {
   "cell_type": "code",
   "execution_count": 7,
   "metadata": {},
   "outputs": [],
   "source": [
    "chmod 754 test"
   ]
  },
  {
   "cell_type": "code",
   "execution_count": 8,
   "metadata": {},
   "outputs": [
    {
     "name": "stdout",
     "output_type": "stream",
     "text": [
      "-rwxr-xr-- 1 jupyter-orissim jupyter-orissim 0 Apr  8 21:55 test\n"
     ]
    }
   ],
   "source": [
    "ls -l test"
   ]
  },
  {
   "cell_type": "code",
   "execution_count": 9,
   "metadata": {},
   "outputs": [],
   "source": [
    "chmod 777 test"
   ]
  },
  {
   "cell_type": "code",
   "execution_count": 10,
   "metadata": {},
   "outputs": [
    {
     "name": "stdout",
     "output_type": "stream",
     "text": [
      "-rwxrwxrwx 1 jupyter-orissim jupyter-orissim 0 Apr  8 21:55 test\n"
     ]
    }
   ],
   "source": [
    "ls -l test"
   ]
  },
  {
   "cell_type": "code",
   "execution_count": 11,
   "metadata": {},
   "outputs": [],
   "source": [
    "chmod 764 test"
   ]
  },
  {
   "cell_type": "code",
   "execution_count": 12,
   "metadata": {},
   "outputs": [
    {
     "name": "stdout",
     "output_type": "stream",
     "text": [
      "-rwxrw-r-- 1 jupyter-orissim jupyter-orissim 0 Apr  8 21:55 test\n"
     ]
    }
   ],
   "source": [
    "ls -l test"
   ]
  },
  {
   "cell_type": "code",
   "execution_count": 15,
   "metadata": {},
   "outputs": [],
   "source": [
    "cd hello"
   ]
  },
  {
   "cell_type": "code",
   "execution_count": 16,
   "metadata": {},
   "outputs": [],
   "source": [
    "touch test1"
   ]
  },
  {
   "cell_type": "code",
   "execution_count": 17,
   "metadata": {},
   "outputs": [],
   "source": [
    "touch test2"
   ]
  },
  {
   "cell_type": "code",
   "execution_count": 18,
   "metadata": {},
   "outputs": [
    {
     "name": "stdout",
     "output_type": "stream",
     "text": [
      "test1  test2\n"
     ]
    }
   ],
   "source": [
    "ls"
   ]
  },
  {
   "cell_type": "code",
   "execution_count": 19,
   "metadata": {},
   "outputs": [],
   "source": [
    "cd .."
   ]
  },
  {
   "cell_type": "code",
   "execution_count": 20,
   "metadata": {},
   "outputs": [
    {
     "name": "stdout",
     "output_type": "stream",
     "text": [
      "total 0\n",
      "-rw-r--r-- 1 jupyter-orissim jupyter-orissim 0 Apr  8 22:08 test1\n",
      "-rw-r--r-- 1 jupyter-orissim jupyter-orissim 0 Apr  8 22:08 test2\n"
     ]
    }
   ],
   "source": [
    "ls -l hello"
   ]
  },
  {
   "cell_type": "code",
   "execution_count": 21,
   "metadata": {},
   "outputs": [],
   "source": [
    "chmod 400 hello"
   ]
  },
  {
   "cell_type": "code",
   "execution_count": 22,
   "metadata": {},
   "outputs": [
    {
     "name": "stdout",
     "output_type": "stream",
     "text": [
      "dr-------- 2 jupyter-orissim jupyter-orissim 4096 Apr  8 22:08 hello\n"
     ]
    }
   ],
   "source": [
    "ls -ld hello"
   ]
  },
  {
   "cell_type": "code",
   "execution_count": 23,
   "metadata": {},
   "outputs": [],
   "source": [
    "chmod 600 hello"
   ]
  },
  {
   "cell_type": "code",
   "execution_count": 24,
   "metadata": {},
   "outputs": [
    {
     "name": "stdout",
     "output_type": "stream",
     "text": [
      "drw------- 2 jupyter-orissim jupyter-orissim 4096 Apr  8 22:08 hello\n"
     ]
    }
   ],
   "source": [
    "ls -ld hello"
   ]
  },
  {
   "cell_type": "code",
   "execution_count": 25,
   "metadata": {},
   "outputs": [],
   "source": [
    "chmod 664 hello"
   ]
  },
  {
   "cell_type": "code",
   "execution_count": 26,
   "metadata": {},
   "outputs": [
    {
     "name": "stdout",
     "output_type": "stream",
     "text": [
      "drw-rw-r-- 2 jupyter-orissim jupyter-orissim 4096 Apr  8 22:08 hello\n"
     ]
    }
   ],
   "source": [
    "ls -ld hello"
   ]
  },
  {
   "cell_type": "code",
   "execution_count": 27,
   "metadata": {},
   "outputs": [],
   "source": [
    "chmod 400 hello"
   ]
  },
  {
   "cell_type": "code",
   "execution_count": 28,
   "metadata": {},
   "outputs": [
    {
     "name": "stdout",
     "output_type": "stream",
     "text": [
      "dr-------- 2 jupyter-orissim jupyter-orissim 4096 Apr  8 22:08 hello\n"
     ]
    }
   ],
   "source": [
    "ls -ld hello"
   ]
  },
  {
   "cell_type": "code",
   "execution_count": 29,
   "metadata": {},
   "outputs": [
    {
     "name": "stdout",
     "output_type": "stream",
     "text": [
      "/home/jupyter-orissim/ko2\n"
     ]
    }
   ],
   "source": [
    "pwd"
   ]
  },
  {
   "cell_type": "code",
   "execution_count": 31,
   "metadata": {},
   "outputs": [
    {
     "name": "stdout",
     "output_type": "stream",
     "text": [
      "test1  test2\n"
     ]
    }
   ],
   "source": [
    "ls hello"
   ]
  },
  {
   "cell_type": "code",
   "execution_count": 33,
   "metadata": {},
   "outputs": [],
   "source": [
    "chmod 700 hello"
   ]
  },
  {
   "cell_type": "code",
   "execution_count": 34,
   "metadata": {},
   "outputs": [],
   "source": [
    "cd hello"
   ]
  },
  {
   "cell_type": "code",
   "execution_count": 35,
   "metadata": {},
   "outputs": [
    {
     "name": "stdout",
     "output_type": "stream",
     "text": [
      "test1  test2\n"
     ]
    }
   ],
   "source": [
    "ls"
   ]
  },
  {
   "cell_type": "code",
   "execution_count": 36,
   "metadata": {},
   "outputs": [],
   "source": [
    "cd .."
   ]
  },
  {
   "cell_type": "code",
   "execution_count": 37,
   "metadata": {},
   "outputs": [],
   "source": [
    "chmod 500 hello"
   ]
  },
  {
   "cell_type": "code",
   "execution_count": 38,
   "metadata": {},
   "outputs": [],
   "source": [
    "cd hello"
   ]
  },
  {
   "cell_type": "code",
   "execution_count": 39,
   "metadata": {},
   "outputs": [
    {
     "name": "stdout",
     "output_type": "stream",
     "text": [
      "touch: cannot touch 'test3': Permission denied\n"
     ]
    },
    {
     "ename": "",
     "evalue": "1",
     "output_type": "error",
     "traceback": []
    }
   ],
   "source": [
    "touch test3"
   ]
  },
  {
   "cell_type": "code",
   "execution_count": 40,
   "metadata": {},
   "outputs": [],
   "source": [
    "cd .."
   ]
  },
  {
   "cell_type": "code",
   "execution_count": 41,
   "metadata": {},
   "outputs": [],
   "source": [
    "chmod 700 hello"
   ]
  },
  {
   "cell_type": "code",
   "execution_count": 42,
   "metadata": {},
   "outputs": [],
   "source": [
    "cd hello"
   ]
  },
  {
   "cell_type": "code",
   "execution_count": 43,
   "metadata": {},
   "outputs": [],
   "source": [
    "touch test3"
   ]
  },
  {
   "cell_type": "code",
   "execution_count": 44,
   "metadata": {},
   "outputs": [
    {
     "name": "stdout",
     "output_type": "stream",
     "text": [
      "test1  test2  test3\n"
     ]
    }
   ],
   "source": [
    "ls"
   ]
  },
  {
   "cell_type": "code",
   "execution_count": 45,
   "metadata": {},
   "outputs": [],
   "source": [
    "cd .."
   ]
  },
  {
   "cell_type": "code",
   "execution_count": 46,
   "metadata": {},
   "outputs": [],
   "source": [
    "chmod 400 hello"
   ]
  },
  {
   "cell_type": "code",
   "execution_count": 47,
   "metadata": {},
   "outputs": [
    {
     "name": "stdout",
     "output_type": "stream",
     "text": [
      "bash: cd: hello: Permission denied\n"
     ]
    },
    {
     "ename": "",
     "evalue": "1",
     "output_type": "error",
     "traceback": []
    }
   ],
   "source": [
    "cd hello"
   ]
  },
  {
   "cell_type": "code",
   "execution_count": 48,
   "metadata": {},
   "outputs": [
    {
     "name": "stdout",
     "output_type": "stream",
     "text": [
      "test1  test2  test3\n"
     ]
    }
   ],
   "source": [
    "ls hello"
   ]
  },
  {
   "cell_type": "code",
   "execution_count": 49,
   "metadata": {},
   "outputs": [],
   "source": [
    "chmod 300 hello"
   ]
  },
  {
   "cell_type": "code",
   "execution_count": 50,
   "metadata": {},
   "outputs": [],
   "source": [
    "cd hello"
   ]
  },
  {
   "cell_type": "code",
   "execution_count": 51,
   "metadata": {},
   "outputs": [],
   "source": [
    "touch test4"
   ]
  },
  {
   "cell_type": "code",
   "execution_count": 52,
   "metadata": {},
   "outputs": [
    {
     "name": "stdout",
     "output_type": "stream",
     "text": [
      "ls: cannot open directory '.': Permission denied\n"
     ]
    },
    {
     "ename": "",
     "evalue": "2",
     "output_type": "error",
     "traceback": []
    }
   ],
   "source": [
    "ls"
   ]
  },
  {
   "cell_type": "code",
   "execution_count": 53,
   "metadata": {},
   "outputs": [],
   "source": [
    "cd .."
   ]
  },
  {
   "cell_type": "code",
   "execution_count": 54,
   "metadata": {},
   "outputs": [],
   "source": [
    "chmod 764 hello"
   ]
  },
  {
   "cell_type": "code",
   "execution_count": 55,
   "metadata": {},
   "outputs": [],
   "source": [
    "cd hello"
   ]
  },
  {
   "cell_type": "code",
   "execution_count": 56,
   "metadata": {},
   "outputs": [],
   "source": [
    "touch test5"
   ]
  },
  {
   "cell_type": "code",
   "execution_count": 57,
   "metadata": {},
   "outputs": [
    {
     "name": "stdout",
     "output_type": "stream",
     "text": [
      "test1  test2  test3  test4  test5\n"
     ]
    }
   ],
   "source": [
    "ls"
   ]
  },
  {
   "cell_type": "code",
   "execution_count": 58,
   "metadata": {},
   "outputs": [],
   "source": [
    "cd .."
   ]
  },
  {
   "cell_type": "code",
   "execution_count": 59,
   "metadata": {},
   "outputs": [
    {
     "name": "stdout",
     "output_type": "stream",
     "text": [
      "jupyter-orissim\n"
     ]
    }
   ],
   "source": [
    "whoami"
   ]
  },
  {
   "cell_type": "code",
   "execution_count": 61,
   "metadata": {},
   "outputs": [
    {
     "name": "stdout",
     "output_type": "stream",
     "text": [
      "hello  test  Untitled.ipynb  version\n"
     ]
    }
   ],
   "source": [
    "ls"
   ]
  },
  {
   "cell_type": "code",
   "execution_count": 64,
   "metadata": {},
   "outputs": [],
   "source": [
    "touch w.txt"
   ]
  },
  {
   "cell_type": "code",
   "execution_count": 66,
   "metadata": {},
   "outputs": [
    {
     "name": "stdout",
     "output_type": "stream",
     "text": [
      "w.txt: uuencoded or xxencoded, ASCII text\n"
     ]
    }
   ],
   "source": [
    "file w.txt"
   ]
  },
  {
   "cell_type": "code",
   "execution_count": 67,
   "metadata": {},
   "outputs": [
    {
     "name": "stdout",
     "output_type": "stream",
     "text": [
      "begin   began   begun\n",
      "bend    bent    bent\n",
      "bet     bet     bet\n",
      "bid     bid     bid\n",
      "bite    bit     bitten\n",
      "blow    blew    blown\n",
      "break   broke   broken\n",
      "bring   brought brought\n",
      "build   built   built\n",
      "buy     bought  bought\n"
     ]
    }
   ],
   "source": [
    "head w.txt"
   ]
  },
  {
   "cell_type": "code",
   "execution_count": 68,
   "metadata": {},
   "outputs": [
    {
     "name": "stdout",
     "output_type": "stream",
     "text": [
      "begin   began   begun\n",
      "bend    bent    bent\n",
      "bet     bet     bet\n",
      "bid     bid     bid\n",
      "bite    bit     bitten\n"
     ]
    }
   ],
   "source": [
    "head -5 w.txt"
   ]
  },
  {
   "cell_type": "code",
   "execution_count": 69,
   "metadata": {},
   "outputs": [
    {
     "name": "stdout",
     "output_type": "stream",
     "text": [
      "begin   began   begun\n",
      "bend    bent    bent\n",
      "bet     bet     bet\n",
      "bid     bid     bid\n",
      "bite    bit     bitten\n",
      "blow    blew    blown\n",
      "break   broke   broken\n",
      "bring   brought brought\n",
      "build   built   built\n",
      "buy     bought  bought\n",
      "catch   caught  caught\n",
      "choose  chose   chosen\n",
      "come    came    come\n",
      "cost    cost    cost\n",
      "cut     cut     cut\n"
     ]
    }
   ],
   "source": [
    "head -15 w.txt"
   ]
  },
  {
   "cell_type": "code",
   "execution_count": 70,
   "metadata": {},
   "outputs": [
    {
     "name": "stdout",
     "output_type": "stream",
     "text": [
      "do      did     done\n",
      "draw    drew    drawn\n",
      "drive   drove   driven\n",
      "drink   drank   drunk\n",
      "eat     ate     eaten\n",
      "fall    fell    fallen\n",
      "feel    felt    felt\n",
      "fight   fought  fought\n",
      "find    found   found\n",
      "fly     flew    flown"
     ]
    }
   ],
   "source": [
    "tail w.txt"
   ]
  },
  {
   "cell_type": "code",
   "execution_count": 71,
   "metadata": {},
   "outputs": [
    {
     "name": "stdout",
     "output_type": "stream",
     "text": [
      "eat     ate     eaten\n",
      "fall    fell    fallen\n",
      "feel    felt    felt\n",
      "fight   fought  fought\n",
      "find    found   found\n",
      "fly     flew    flown"
     ]
    }
   ],
   "source": [
    "tail -6 w.txt"
   ]
  },
  {
   "cell_type": "code",
   "execution_count": 72,
   "metadata": {},
   "outputs": [
    {
     "name": "stdout",
     "output_type": "stream",
     "text": [
      "begin   began   begun\n",
      "bend    bent    bent\n",
      "bet     bet     bet\n",
      "bid     bid     bid\n",
      "bite    bit     bitten\n",
      "blow    blew    blown\n",
      "break   broke   broken\n",
      "bring   brought brought\n",
      "build   built   built\n",
      "buy     bought  bought\n",
      "catch   caught  caught\n",
      "choose  chose   chosen\n",
      "come    came    come\n",
      "cost    cost    cost\n",
      "cut     cut     cut\n",
      "dig     dug     dug\n",
      "dive    dove    dived\n",
      "do      did     done\n",
      "draw    drew    drawn\n",
      "drive   drove   driven\n",
      "drink   drank   drunk\n",
      "eat     ate     eaten\n",
      "fall    fell    fallen\n",
      "feel    felt    felt\n",
      "fight   fought  fought\n",
      "find    found   found\n",
      "fly     flew    flown"
     ]
    }
   ],
   "source": [
    "cat w.txt"
   ]
  },
  {
   "cell_type": "code",
   "execution_count": 73,
   "metadata": {},
   "outputs": [
    {
     "name": "stdout",
     "output_type": "stream",
     "text": [
      "     1\tbegin   began   begun\n",
      "     2\tbend    bent    bent\n",
      "     3\tbet     bet     bet\n",
      "     4\tbid     bid     bid\n",
      "     5\tbite    bit     bitten\n",
      "     6\tblow    blew    blown\n",
      "     7\tbreak   broke   broken\n",
      "     8\tbring   brought brought\n",
      "     9\tbuild   built   built\n",
      "    10\tbuy     bought  bought\n",
      "    11\tcatch   caught  caught\n",
      "    12\tchoose  chose   chosen\n",
      "    13\tcome    came    come\n",
      "    14\tcost    cost    cost\n",
      "    15\tcut     cut     cut\n",
      "    16\tdig     dug     dug\n",
      "    17\tdive    dove    dived\n",
      "    18\tdo      did     done\n",
      "    19\tdraw    drew    drawn\n",
      "    20\tdrive   drove   driven\n",
      "    21\tdrink   drank   drunk\n",
      "    22\teat     ate     eaten\n",
      "    23\tfall    fell    fallen\n",
      "    24\tfeel    felt    felt\n",
      "    25\tfight   fought  fought\n",
      "    26\tfind    found   found\n",
      "    27\tfly     flew    flown\n"
     ]
    }
   ],
   "source": [
    "nl w.txt"
   ]
  },
  {
   "cell_type": "code",
   "execution_count": 78,
   "metadata": {},
   "outputs": [
    {
     "name": "stdout",
     "output_type": "stream",
     "text": [
      "         1. begin   began   begun\n",
      "         2. bend    bent    bent\n",
      "         3. bet     bet     bet\n",
      "         4. bid     bid     bid\n",
      "         5. bite    bit     bitten\n",
      "         6. blow    blew    blown\n",
      "         7. break   broke   broken\n",
      "         8. bring   brought brought\n",
      "         9. build   built   built\n",
      "        10. buy     bought  bought\n",
      "        11. catch   caught  caught\n",
      "        12. choose  chose   chosen\n",
      "        13. come    came    come\n",
      "        14. cost    cost    cost\n",
      "        15. cut     cut     cut\n",
      "        16. dig     dug     dug\n",
      "        17. dive    dove    dived\n",
      "        18. do      did     done\n",
      "        19. draw    drew    drawn\n",
      "        20. drive   drove   driven\n",
      "        21. drink   drank   drunk\n",
      "        22. eat     ate     eaten\n",
      "        23. fall    fell    fallen\n",
      "        24. feel    felt    felt\n",
      "        25. fight   fought  fought\n",
      "        26. find    found   found\n",
      "        27. fly     flew    flown\n"
     ]
    }
   ],
   "source": [
    "nl -s '. ' -w 10 w.txt"
   ]
  },
  {
   "cell_type": "code",
   "execution_count": 79,
   "metadata": {},
   "outputs": [
    {
     "name": "stdout",
     "output_type": "stream",
     "text": [
      "   1*begin   began   begun\n",
      "   2*bend    bent    bent\n",
      "   3*bet     bet     bet\n",
      "   4*bid     bid     bid\n",
      "   5*bite    bit     bitten\n",
      "   6*blow    blew    blown\n",
      "   7*break   broke   broken\n",
      "   8*bring   brought brought\n",
      "   9*build   built   built\n",
      "  10*buy     bought  bought\n",
      "  11*catch   caught  caught\n",
      "  12*choose  chose   chosen\n",
      "  13*come    came    come\n",
      "  14*cost    cost    cost\n",
      "  15*cut     cut     cut\n",
      "  16*dig     dug     dug\n",
      "  17*dive    dove    dived\n",
      "  18*do      did     done\n",
      "  19*draw    drew    drawn\n",
      "  20*drive   drove   driven\n",
      "  21*drink   drank   drunk\n",
      "  22*eat     ate     eaten\n",
      "  23*fall    fell    fallen\n",
      "  24*feel    felt    felt\n",
      "  25*fight   fought  fought\n",
      "  26*find    found   found\n",
      "  27*fly     flew    flown\n"
     ]
    }
   ],
   "source": [
    "nl -s '*' -w 4 w.txt"
   ]
  },
  {
   "cell_type": "code",
   "execution_count": 80,
   "metadata": {},
   "outputs": [
    {
     "name": "stdout",
     "output_type": "stream",
     "text": [
      " 26  81 590 w.txt\n"
     ]
    }
   ],
   "source": [
    "wc w.txt"
   ]
  },
  {
   "cell_type": "code",
   "execution_count": 81,
   "metadata": {},
   "outputs": [
    {
     "name": "stdout",
     "output_type": "stream",
     "text": [
      "26 w.txt\n"
     ]
    }
   ],
   "source": [
    "wc -l w.txt"
   ]
  },
  {
   "cell_type": "code",
   "execution_count": 82,
   "metadata": {},
   "outputs": [
    {
     "name": "stdout",
     "output_type": "stream",
     "text": [
      "81 w.txt\n"
     ]
    }
   ],
   "source": [
    "wc -w w.txt"
   ]
  },
  {
   "cell_type": "code",
   "execution_count": 83,
   "metadata": {},
   "outputs": [
    {
     "name": "stdout",
     "output_type": "stream",
     "text": [
      "590 w.txt\n"
     ]
    }
   ],
   "source": [
    "wc -m w.txt"
   ]
  },
  {
   "cell_type": "code",
   "execution_count": 85,
   "metadata": {},
   "outputs": [
    {
     "name": "stdout",
     "output_type": "stream",
     "text": [
      "begin\n",
      "bend\n",
      "bet\n",
      "bid\n",
      "bite\n",
      "blow\n",
      "break\n",
      "bring\n",
      "build\n",
      "buy\n",
      "catch\n",
      "choose\n",
      "come\n",
      "cost\n"
     ]
    }
   ],
   "source": [
    "cut -f 1 -d ' ' w.txt"
   ]
  },
  {
   "cell_type": "code",
   "execution_count": 92,
   "metadata": {},
   "outputs": [
    {
     "name": "stdout",
     "output_type": "stream",
     "text": [
      "hello  test  Untitled.ipynb  version  w.txt\n"
     ]
    }
   ],
   "source": [
    "ls"
   ]
  },
  {
   "cell_type": "code",
   "execution_count": 97,
   "metadata": {},
   "outputs": [
    {
     "name": "stdout",
     "output_type": "stream",
     "text": [
      "begin   began   begun\n",
      "bend    bent    bent\n",
      "bet     bet     bet\n",
      "bid     bid     bid\n",
      "bite    bit     bitten\n",
      "blow    blew    blown\n",
      "break   broke   broken\n",
      "bring   brought brought\n",
      "build   built   built\n",
      "buy     bought  bought\n",
      "catch   caught  caught\n",
      "choose  chose   chosen\n",
      "come    came    come\n",
      "cost    cost    cost\n"
     ]
    }
   ],
   "source": [
    "uniq w.txt"
   ]
  },
  {
   "cell_type": "code",
   "execution_count": 98,
   "metadata": {},
   "outputs": [
    {
     "name": "stdout",
     "output_type": "stream",
     "text": [
      "cost    cost    cost\n",
      "come    came    come\n",
      "choose  chose   chosen\n",
      "catch   caught  caught\n",
      "buy     bought  bought\n",
      "build   built   built\n",
      "bring   brought brought\n",
      "break   broke   broken\n",
      "blow    blew    blown\n",
      "bite    bit     bitten\n",
      "bid     bid     bid\n",
      "bet     bet     bet\n",
      "bend    bent    bent\n",
      "begin   began   begun\n"
     ]
    }
   ],
   "source": [
    "tac w.txt"
   ]
  },
  {
   "cell_type": "code",
   "execution_count": null,
   "metadata": {},
   "outputs": [],
   "source": []
  }
 ],
 "metadata": {
  "kernelspec": {
   "display_name": "Bash",
   "language": "bash",
   "name": "bash"
  },
  "language_info": {
   "codemirror_mode": "shell",
   "file_extension": ".sh",
   "mimetype": "text/x-sh",
   "name": "bash"
  }
 },
 "nbformat": 4,
 "nbformat_minor": 4
}
