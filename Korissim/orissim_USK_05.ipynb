{
 "cells": [
  {
   "cell_type": "code",
   "execution_count": 1,
   "metadata": {},
   "outputs": [
    {
     "name": "stdout",
     "output_type": "stream",
     "text": [
      "total 16\n",
      "-rw-r--r-- 1 jupyter-orissim jupyter-orissim  530 Apr 17 02:48 copyfile.txt\n",
      "-rw-r--r-- 1 jupyter-orissim jupyter-orissim    9 Apr  8 23:35 file.txt\n",
      "-rw-r--r-- 1 jupyter-orissim jupyter-orissim   72 Apr 17 03:12 Untitled1.ipynb\n",
      "-rw-r--r-- 1 jupyter-orissim jupyter-orissim 2860 Apr 17 03:04 Untitled.ipynb\n"
     ]
    }
   ],
   "source": [
    "ls -l"
   ]
  },
  {
   "cell_type": "code",
   "execution_count": 2,
   "metadata": {},
   "outputs": [
    {
     "name": "stdout",
     "output_type": "stream",
     "text": [
      "/home/jupyter-orissim/ko3\n"
     ]
    }
   ],
   "source": [
    "pwd"
   ]
  },
  {
   "cell_type": "code",
   "execution_count": 3,
   "metadata": {},
   "outputs": [
    {
     "name": "stdout",
     "output_type": "stream",
     "text": [
      "In Search of Lost Time by Marcel Proust\n",
      "Ulysses by James Joyce\n",
      "Don Quixote by Miguel de Cervantes\n",
      "The Great Gatsby by F. Scott Fitzgerald\n",
      "One Hundred Years of Solitude by Gabriel Garcia Marquez\n",
      "Moby Dick by Herman Melville\n",
      "War and Peace by Leo Tolstoy\n",
      "Lolita by Vladimir Nabokov\n",
      "Hamlet by William Shakespeare\n",
      "The Catcher in the Rye by J. D. Salinger\n",
      "The Odyssey by Homer\n",
      "The Brothers Karamazov by Fyodor Dostoyevsky\n",
      "Crime and Punishment by Fyodor Dostoyevsky\n",
      "Madame Bovary by Gustave Flaubert\n",
      "The Divine Comedy by Dante Alighieri\n"
     ]
    }
   ],
   "source": [
    "cat copyfile.txt"
   ]
  },
  {
   "cell_type": "code",
   "execution_count": 4,
   "metadata": {},
   "outputs": [
    {
     "name": "stdout",
     "output_type": "stream",
     "text": [
      "The Catcher in the Rye by J. D. Salinger\n",
      "The Brothers Karamazov by Fyodor Dostoyevsky\n"
     ]
    }
   ],
   "source": [
    "egrep 'the' copyfile.txt"
   ]
  },
  {
   "cell_type": "code",
   "execution_count": 5,
   "metadata": {},
   "outputs": [
    {
     "name": "stdout",
     "output_type": "stream",
     "text": [
      "10:The Catcher in the Rye by J. D. Salinger\n",
      "12:The Brothers Karamazov by Fyodor Dostoyevsky\n"
     ]
    }
   ],
   "source": [
    "egrep -n 'the' copyfile.txt"
   ]
  },
  {
   "cell_type": "code",
   "execution_count": 6,
   "metadata": {},
   "outputs": [
    {
     "name": "stdout",
     "output_type": "stream",
     "text": [
      "2\n"
     ]
    }
   ],
   "source": [
    "egrep -c 'the' copyfile.txt"
   ]
  },
  {
   "cell_type": "code",
   "execution_count": 7,
   "metadata": {},
   "outputs": [
    {
     "name": "stdout",
     "output_type": "stream",
     "text": [
      "In Search of Lost Time by Marcel Proust\n",
      "Ulysses by James Joyce\n",
      "Don Quixote by Miguel de Cervantes\n",
      "The Great Gatsby by F. Scott Fitzgerald\n",
      "One Hundred Years of Solitude by Gabriel Garcia Marquez\n",
      "Moby Dick by Herman Melville\n",
      "War and Peace by Leo Tolstoy\n",
      "Lolita by Vladimir Nabokov\n",
      "Hamlet by William Shakespeare\n",
      "The Catcher in the Rye by J. D. Salinger\n",
      "The Odyssey by Homer\n",
      "The Brothers Karamazov by Fyodor Dostoyevsky\n",
      "Crime and Punishment by Fyodor Dostoyevsky\n",
      "Madame Bovary by Gustave Flaubert\n",
      "The Divine Comedy by Dante Alighieri\n"
     ]
    }
   ],
   "source": [
    "egrep '[aeobr]' copyfile.txt"
   ]
  },
  {
   "cell_type": "code",
   "execution_count": 8,
   "metadata": {},
   "outputs": [
    {
     "name": "stdout",
     "output_type": "stream",
     "text": [
      "In Search of Lost Time by Marcel Proust\n",
      "Don Quixote by Miguel de Cervantes\n",
      "The Great Gatsby by F. Scott Fitzgerald\n",
      "One Hundred Years of Solitude by Gabriel Garcia Marquez\n",
      "Moby Dick by Herman Melville\n",
      "War and Peace by Leo Tolstoy\n",
      "Lolita by Vladimir Nabokov\n",
      "Hamlet by William Shakespeare\n",
      "The Catcher in the Rye by J. D. Salinger\n",
      "The Odyssey by Homer\n",
      "The Brothers Karamazov by Fyodor Dostoyevsky\n",
      "Crime and Punishment by Fyodor Dostoyevsky\n",
      "Madame Bovary by Gustave Flaubert\n",
      "The Divine Comedy by Dante Alighieri\n"
     ]
    }
   ],
   "source": [
    "egrep '[aeobr]{2,}' copyfile.txt"
   ]
  },
  {
   "cell_type": "code",
   "execution_count": 9,
   "metadata": {},
   "outputs": [
    {
     "name": "stdout",
     "output_type": "stream",
     "text": [
      "Don Quixote by Miguel de Cervantes\n",
      "Moby Dick by Herman Melville\n",
      "The Catcher in the Rye by J. D. Salinger\n",
      "The Brothers Karamazov by Fyodor Dostoyevsky\n",
      "Crime and Punishment by Fyodor Dostoyevsky\n",
      "The Divine Comedy by Dante Alighieri\n"
     ]
    }
   ],
   "source": [
    "egrep 'D' copyfile.txt"
   ]
  },
  {
   "cell_type": "code",
   "execution_count": 10,
   "metadata": {},
   "outputs": [
    {
     "name": "stdout",
     "output_type": "stream",
     "text": [
      "Don Quixote by Miguel de Cervantes\n"
     ]
    }
   ],
   "source": [
    "egrep '^D' copyfile.txt"
   ]
  },
  {
   "cell_type": "code",
   "execution_count": 11,
   "metadata": {},
   "outputs": [
    {
     "name": "stdout",
     "output_type": "stream",
     "text": [
      "The Catcher in the Rye by J. D. Salinger\n",
      "The Odyssey by Homer\n"
     ]
    }
   ],
   "source": [
    "egrep 'r$' copyfile.txt"
   ]
  },
  {
   "cell_type": "code",
   "execution_count": 12,
   "metadata": {},
   "outputs": [
    {
     "name": "stdout",
     "output_type": "stream",
     "text": [
      "In Search of Lost Time by Marcel Proust\n",
      "Don Quixote by Miguel de Cervantes\n",
      "The Great Gatsby by F. Scott Fitzgerald\n",
      "Moby Dick by Herman Melville\n",
      "The Catcher in the Rye by J. D. Salinger\n",
      "The Odyssey by Homer\n",
      "The Brothers Karamazov by Fyodor Dostoyevsky\n",
      "Madame Bovary by Gustave Flaubert\n",
      "The Divine Comedy by Dante Alighieri\n"
     ]
    }
   ],
   "source": [
    "egrep 'ch|er|ig' copyfile.txt"
   ]
  },
  {
   "cell_type": "code",
   "execution_count": 13,
   "metadata": {},
   "outputs": [
    {
     "name": "stdout",
     "output_type": "stream",
     "text": [
      "Don Quixote by Miguel de Cervantes\n",
      "The Great Gatsby by F. Scott Fitzgerald\n",
      "Moby Dick by Herman Melville\n",
      "The Catcher in the Rye by J. D. Salinger\n",
      "The Brothers Karamazov by Fyodor Dostoyevsky\n",
      "Crime and Punishment by Fyodor Dostoyevsky\n",
      "Madame Bovary by Gustave Flaubert\n",
      "The Divine Comedy by Dante Alighieri\n"
     ]
    }
   ],
   "source": [
    "egrep '[A-F]' copyfile.txt"
   ]
  },
  {
   "cell_type": "code",
   "execution_count": 14,
   "metadata": {},
   "outputs": [
    {
     "name": "stdout",
     "output_type": "stream",
     "text": [
      "Don Quixote by Miguel de Cervantes\n",
      "Crime and Punishment by Fyodor Dostoyevsky\n"
     ]
    }
   ],
   "source": [
    "egrep '^[A-F]' copyfile.txt"
   ]
  },
  {
   "cell_type": "code",
   "execution_count": 15,
   "metadata": {},
   "outputs": [],
   "source": [
    "touch myoutput"
   ]
  },
  {
   "cell_type": "code",
   "execution_count": 16,
   "metadata": {},
   "outputs": [
    {
     "name": "stdout",
     "output_type": "stream",
     "text": [
      "total 20\n",
      "-rw-r--r-- 1 jupyter-orissim jupyter-orissim  530 Apr 17 02:48 copyfile.txt\n",
      "-rw-r--r-- 1 jupyter-orissim jupyter-orissim    9 Apr  8 23:35 file.txt\n",
      "-rw-r--r-- 1 jupyter-orissim jupyter-orissim    0 Apr 17 03:18 myoutput\n",
      "-rw-r--r-- 1 jupyter-orissim jupyter-orissim 7744 Apr 17 03:18 Untitled1.ipynb\n",
      "-rw-r--r-- 1 jupyter-orissim jupyter-orissim 2860 Apr 17 03:04 Untitled.ipynb\n"
     ]
    }
   ],
   "source": [
    "ls -l"
   ]
  },
  {
   "cell_type": "code",
   "execution_count": 17,
   "metadata": {},
   "outputs": [],
   "source": [
    "cat myoutput"
   ]
  },
  {
   "cell_type": "code",
   "execution_count": 18,
   "metadata": {},
   "outputs": [],
   "source": [
    "ls -l >myoutput"
   ]
  },
  {
   "cell_type": "code",
   "execution_count": 19,
   "metadata": {},
   "outputs": [
    {
     "name": "stdout",
     "output_type": "stream",
     "text": [
      "total 20\n",
      "-rw-r--r-- 1 jupyter-orissim jupyter-orissim  530 Apr 17 02:48 copyfile.txt\n",
      "-rw-r--r-- 1 jupyter-orissim jupyter-orissim    9 Apr  8 23:35 file.txt\n",
      "-rw-r--r-- 1 jupyter-orissim jupyter-orissim    0 Apr 17 03:19 myoutput\n",
      "-rw-r--r-- 1 jupyter-orissim jupyter-orissim 7744 Apr 17 03:18 Untitled1.ipynb\n",
      "-rw-r--r-- 1 jupyter-orissim jupyter-orissim 2860 Apr 17 03:04 Untitled.ipynb\n"
     ]
    }
   ],
   "source": [
    "cat myoutput"
   ]
  },
  {
   "cell_type": "code",
   "execution_count": 20,
   "metadata": {},
   "outputs": [],
   "source": [
    "touch file1"
   ]
  },
  {
   "cell_type": "code",
   "execution_count": 21,
   "metadata": {},
   "outputs": [
    {
     "name": "stdout",
     "output_type": "stream",
     "text": [
      "total 28\n",
      "-rw-r--r-- 1 jupyter-orissim jupyter-orissim  530 Apr 17 02:48 copyfile.txt\n",
      "-rw-r--r-- 1 jupyter-orissim jupyter-orissim    0 Apr 17 03:20 file1\n",
      "-rw-r--r-- 1 jupyter-orissim jupyter-orissim    9 Apr  8 23:35 file.txt\n",
      "-rw-r--r-- 1 jupyter-orissim jupyter-orissim  386 Apr 17 03:19 myoutput\n",
      "-rw-r--r-- 1 jupyter-orissim jupyter-orissim 9631 Apr 17 03:20 Untitled1.ipynb\n",
      "-rw-r--r-- 1 jupyter-orissim jupyter-orissim 2860 Apr 17 03:04 Untitled.ipynb\n"
     ]
    }
   ],
   "source": [
    "ls -l"
   ]
  },
  {
   "cell_type": "code",
   "execution_count": 22,
   "metadata": {},
   "outputs": [
    {
     "name": "stdout",
     "output_type": "stream",
     "text": [
      "total 20\n",
      "-rw-r--r-- 1 jupyter-orissim jupyter-orissim  530 Apr 17 02:48 copyfile.txt\n",
      "-rw-r--r-- 1 jupyter-orissim jupyter-orissim    9 Apr  8 23:35 file.txt\n",
      "-rw-r--r-- 1 jupyter-orissim jupyter-orissim    0 Apr 17 03:19 myoutput\n",
      "-rw-r--r-- 1 jupyter-orissim jupyter-orissim 7744 Apr 17 03:18 Untitled1.ipynb\n",
      "-rw-r--r-- 1 jupyter-orissim jupyter-orissim 2860 Apr 17 03:04 Untitled.ipynb\n"
     ]
    }
   ],
   "source": [
    "cat myoutput"
   ]
  },
  {
   "cell_type": "code",
   "execution_count": 23,
   "metadata": {},
   "outputs": [],
   "source": [
    "ls -l >myoutput"
   ]
  },
  {
   "cell_type": "code",
   "execution_count": 24,
   "metadata": {},
   "outputs": [
    {
     "name": "stdout",
     "output_type": "stream",
     "text": [
      "total 24\n",
      "-rw-r--r-- 1 jupyter-orissim jupyter-orissim  530 Apr 17 02:48 copyfile.txt\n",
      "-rw-r--r-- 1 jupyter-orissim jupyter-orissim    0 Apr 17 03:20 file1\n",
      "-rw-r--r-- 1 jupyter-orissim jupyter-orissim    9 Apr  8 23:35 file.txt\n",
      "-rw-r--r-- 1 jupyter-orissim jupyter-orissim    0 Apr 17 03:20 myoutput\n",
      "-rw-r--r-- 1 jupyter-orissim jupyter-orissim 9631 Apr 17 03:20 Untitled1.ipynb\n",
      "-rw-r--r-- 1 jupyter-orissim jupyter-orissim 2860 Apr 17 03:04 Untitled.ipynb\n"
     ]
    }
   ],
   "source": [
    "cat myoutput"
   ]
  },
  {
   "cell_type": "code",
   "execution_count": 25,
   "metadata": {},
   "outputs": [],
   "source": [
    "pwd >myoutput"
   ]
  },
  {
   "cell_type": "code",
   "execution_count": 26,
   "metadata": {},
   "outputs": [
    {
     "name": "stdout",
     "output_type": "stream",
     "text": [
      "/home/jupyter-orissim/ko3\n"
     ]
    }
   ],
   "source": [
    "cat myoutput"
   ]
  },
  {
   "cell_type": "code",
   "execution_count": 27,
   "metadata": {},
   "outputs": [],
   "source": [
    "ls -l >>myoutput"
   ]
  },
  {
   "cell_type": "code",
   "execution_count": 28,
   "metadata": {},
   "outputs": [
    {
     "name": "stdout",
     "output_type": "stream",
     "text": [
      "/home/jupyter-orissim/ko3\n",
      "total 28\n",
      "-rw-r--r-- 1 jupyter-orissim jupyter-orissim  530 Apr 17 02:48 copyfile.txt\n",
      "-rw-r--r-- 1 jupyter-orissim jupyter-orissim    0 Apr 17 03:20 file1\n",
      "-rw-r--r-- 1 jupyter-orissim jupyter-orissim    9 Apr  8 23:35 file.txt\n",
      "-rw-r--r-- 1 jupyter-orissim jupyter-orissim   26 Apr 17 03:20 myoutput\n",
      "-rw-r--r-- 1 jupyter-orissim jupyter-orissim 9631 Apr 17 03:20 Untitled1.ipynb\n",
      "-rw-r--r-- 1 jupyter-orissim jupyter-orissim 2860 Apr 17 03:04 Untitled.ipynb\n"
     ]
    }
   ],
   "source": [
    "cat myoutput"
   ]
  },
  {
   "cell_type": "code",
   "execution_count": 29,
   "metadata": {},
   "outputs": [
    {
     "name": "stdout",
     "output_type": "stream",
     "text": [
      "ls -l >>myoutput\n"
     ]
    }
   ],
   "source": [
    "!l"
   ]
  },
  {
   "cell_type": "code",
   "execution_count": 30,
   "metadata": {},
   "outputs": [
    {
     "name": "stdout",
     "output_type": "stream",
     "text": [
      "copyfile.txt  file1  file.txt  myoutput  Untitled1.ipynb  Untitled.ipynb\n"
     ]
    }
   ],
   "source": [
    "ls"
   ]
  },
  {
   "cell_type": "code",
   "execution_count": 31,
   "metadata": {},
   "outputs": [
    {
     "name": "stdout",
     "output_type": "stream",
     "text": [
      "ls\n",
      "copyfile.txt  file1  file.txt  myoutput  Untitled1.ipynb  Untitled.ipynb\n"
     ]
    }
   ],
   "source": [
    "!l"
   ]
  },
  {
   "cell_type": "code",
   "execution_count": 32,
   "metadata": {},
   "outputs": [
    {
     "name": "stdout",
     "output_type": "stream",
     "text": [
      "copyfile.txt\n",
      "file1\n"
     ]
    }
   ],
   "source": [
    "ls | head -2"
   ]
  },
  {
   "cell_type": "code",
   "execution_count": 33,
   "metadata": {},
   "outputs": [
    {
     "name": "stdout",
     "output_type": "stream",
     "text": [
      "file.txt\n",
      "myoutput\n"
     ]
    }
   ],
   "source": [
    "ls | head -4 | tail -2"
   ]
  },
  {
   "cell_type": "code",
   "execution_count": 34,
   "metadata": {},
   "outputs": [],
   "source": [
    "ls | head -4 | tail -2>>myoutput"
   ]
  },
  {
   "cell_type": "code",
   "execution_count": 35,
   "metadata": {},
   "outputs": [
    {
     "name": "stdout",
     "output_type": "stream",
     "text": [
      "/home/jupyter-orissim/ko3\n",
      "total 28\n",
      "-rw-r--r-- 1 jupyter-orissim jupyter-orissim  530 Apr 17 02:48 copyfile.txt\n",
      "-rw-r--r-- 1 jupyter-orissim jupyter-orissim    0 Apr 17 03:20 file1\n",
      "-rw-r--r-- 1 jupyter-orissim jupyter-orissim    9 Apr  8 23:35 file.txt\n",
      "-rw-r--r-- 1 jupyter-orissim jupyter-orissim   26 Apr 17 03:20 myoutput\n",
      "-rw-r--r-- 1 jupyter-orissim jupyter-orissim 9631 Apr 17 03:20 Untitled1.ipynb\n",
      "-rw-r--r-- 1 jupyter-orissim jupyter-orissim 2860 Apr 17 03:04 Untitled.ipynb\n",
      "total 32\n",
      "-rw-r--r-- 1 jupyter-orissim jupyter-orissim   530 Apr 17 02:48 copyfile.txt\n",
      "-rw-r--r-- 1 jupyter-orissim jupyter-orissim     0 Apr 17 03:20 file1\n",
      "-rw-r--r-- 1 jupyter-orissim jupyter-orissim     9 Apr  8 23:35 file.txt\n",
      "-rw-r--r-- 1 jupyter-orissim jupyter-orissim   481 Apr 17 03:21 myoutput\n",
      "-rw-r--r-- 1 jupyter-orissim jupyter-orissim 13270 Apr 17 03:22 Untitled1.ipynb\n",
      "-rw-r--r-- 1 jupyter-orissim jupyter-orissim  2860 Apr 17 03:04 Untitled.ipynb\n",
      "file.txt\n",
      "myoutput\n"
     ]
    }
   ],
   "source": [
    "cat myoutput"
   ]
  },
  {
   "cell_type": "code",
   "execution_count": 36,
   "metadata": {},
   "outputs": [
    {
     "name": "stdout",
     "output_type": "stream",
     "text": [
      "-rw-r--r-- 1 jupyter-orissim jupyter-orissim     0 Apr 17 03:20 file1\n",
      "-rw-r--r-- 1 jupyter-orissim jupyter-orissim     9 Apr  8 23:35 file.txt\n",
      "-rw-r--r-- 1 jupyter-orissim jupyter-orissim   481 Apr 17 03:21 myoutput\n",
      "-rw-r--r-- 1 jupyter-orissim jupyter-orissim 13270 Apr 17 03:22 Untitled1.ipynb\n",
      "-rw-r--r-- 1 jupyter-orissim jupyter-orissim  2860 Apr 17 03:04 Untitled.ipynb\n",
      "file.txt\n",
      "myoutput\n"
     ]
    }
   ],
   "source": [
    "tail -7 myoutput"
   ]
  },
  {
   "cell_type": "code",
   "execution_count": 37,
   "metadata": {},
   "outputs": [
    {
     "name": "stdout",
     "output_type": "stream",
     "text": [
      "-rw-r--r-- 1 jupyter-orissim jupyter-orissim    0 Apr 17 03:20 file1\n",
      "-rw-r--r-- 1 jupyter-orissim jupyter-orissim    9 Apr  8 23:35 file.txt\n",
      "-rw-r--r-- 1 jupyter-orissim jupyter-orissim   26 Apr 17 03:20 myoutput\n",
      "-rw-r--r-- 1 jupyter-orissim jupyter-orissim 9631 Apr 17 03:20 Untitled1.ipynb\n",
      "-rw-r--r-- 1 jupyter-orissim jupyter-orissim 2860 Apr 17 03:04 Untitled.ipynb\n",
      "total 32\n",
      "-rw-r--r-- 1 jupyter-orissim jupyter-orissim   530 Apr 17 02:48 copyfile.txt\n",
      "-rw-r--r-- 1 jupyter-orissim jupyter-orissim     0 Apr 17 03:20 file1\n",
      "-rw-r--r-- 1 jupyter-orissim jupyter-orissim     9 Apr  8 23:35 file.txt\n",
      "-rw-r--r-- 1 jupyter-orissim jupyter-orissim   481 Apr 17 03:21 myoutput\n",
      "-rw-r--r-- 1 jupyter-orissim jupyter-orissim 13270 Apr 17 03:22 Untitled1.ipynb\n",
      "-rw-r--r-- 1 jupyter-orissim jupyter-orissim  2860 Apr 17 03:04 Untitled.ipynb\n",
      "file.txt\n",
      "myoutput\n"
     ]
    }
   ],
   "source": [
    "tail -n +4 myoutput"
   ]
  },
  {
   "cell_type": "code",
   "execution_count": 38,
   "metadata": {},
   "outputs": [
    {
     "name": "stdout",
     "output_type": "stream",
     "text": [
      "-rw-r--r-- 1 jupyter-orissim jupyter-orissim 9631 Apr 17 03:20 Untitled1.ipynb\n",
      "-rw-r--r-- 1 jupyter-orissim jupyter-orissim 2860 Apr 17 03:04 Untitled.ipynb\n"
     ]
    }
   ],
   "source": [
    "tail -n +7 myoutput | head -2"
   ]
  },
  {
   "cell_type": "code",
   "execution_count": null,
   "metadata": {},
   "outputs": [],
   "source": []
  }
 ],
 "metadata": {
  "kernelspec": {
   "display_name": "Bash",
   "language": "bash",
   "name": "bash"
  },
  "language_info": {
   "codemirror_mode": "shell",
   "file_extension": ".sh",
   "mimetype": "text/x-sh",
   "name": "bash"
  }
 },
 "nbformat": 4,
 "nbformat_minor": 4
}
