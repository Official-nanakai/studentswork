{
 "cells": [
  {
   "cell_type": "code",
   "execution_count": 1,
   "metadata": {},
   "outputs": [
    {
     "name": "stdout",
     "output_type": "stream",
     "text": [
      "orissim         shared           Untitled2.ipynb  Untitled.ipynb\n",
      "orissim3.ipynb  Untitled1.ipynb  Untitled3.ipynb\n"
     ]
    }
   ],
   "source": [
    "ls"
   ]
  },
  {
   "cell_type": "code",
   "execution_count": 2,
   "metadata": {},
   "outputs": [
    {
     "name": "stdout",
     "output_type": "stream",
     "text": [
      "/home/jupyter-orissim\n"
     ]
    }
   ],
   "source": [
    "pwd"
   ]
  },
  {
   "cell_type": "code",
   "execution_count": 3,
   "metadata": {},
   "outputs": [],
   "source": [
    "cd /"
   ]
  },
  {
   "cell_type": "code",
   "execution_count": 4,
   "metadata": {},
   "outputs": [
    {
     "name": "stdout",
     "output_type": "stream",
     "text": [
      "/\n"
     ]
    }
   ],
   "source": [
    "pwd"
   ]
  },
  {
   "cell_type": "code",
   "execution_count": 5,
   "metadata": {},
   "outputs": [
    {
     "name": "stdout",
     "output_type": "stream",
     "text": [
      "bin    etc             lib         mkdir  root  srv       usr\n",
      "boot   home            lib64       mnt    run   swap.img  var\n",
      "cdrom  initrd.img      lost+found  opt    sbin  sys       vmlinuz\n",
      "dev    initrd.img.old  media       proc   snap  tmp       vmlinuz.old\n"
     ]
    }
   ],
   "source": [
    "ls"
   ]
  },
  {
   "cell_type": "code",
   "execution_count": 6,
   "metadata": {},
   "outputs": [],
   "source": [
    "cd home"
   ]
  },
  {
   "cell_type": "code",
   "execution_count": 7,
   "metadata": {},
   "outputs": [
    {
     "name": "stdout",
     "output_type": "stream",
     "text": [
      "azat                   jupyter-cubefiction    jupyter-official-nanakai\n",
      "jupyter-admin          jupyter-danenok        jupyter-orissim\n",
      "jupyter-aiana178       jupyter-darganius      jupyter-tsagynysh\n",
      "jupyter-aigerimunisat  jupyter-ekdana         jupyter-unisat\n",
      "jupyter-aizadait       jupyter-inkar601       jupyter-unisatkz\n",
      "jupyter-amayakof       jupyter-kkenzh         jupyter-yeldana\n",
      "jupyter-amirkhan       jupyter-nazymungarova  jupyter-zhandos\n",
      "jupyter-arayka         jupyter-nuray.serkali  jupyter-zhanelbaltabay\n",
      "jupyter-aruzhan149     jupyter-nurike         jupyter-zhannaspace\n",
      "jupyter-aselleon       jupyter-nurlaura\n",
      "jupyter-azat           jupyter-nurlaura2\n"
     ]
    }
   ],
   "source": [
    "ls "
   ]
  },
  {
   "cell_type": "code",
   "execution_count": 8,
   "metadata": {},
   "outputs": [],
   "source": [
    "cd jupyter-orissim"
   ]
  },
  {
   "cell_type": "code",
   "execution_count": 9,
   "metadata": {},
   "outputs": [
    {
     "name": "stdout",
     "output_type": "stream",
     "text": [
      "orissim         shared           Untitled2.ipynb  Untitled.ipynb\n",
      "orissim3.ipynb  Untitled1.ipynb  Untitled3.ipynb\n"
     ]
    }
   ],
   "source": [
    "ls"
   ]
  },
  {
   "cell_type": "code",
   "execution_count": 10,
   "metadata": {},
   "outputs": [],
   "source": [
    "mkdir ko1"
   ]
  },
  {
   "cell_type": "code",
   "execution_count": 11,
   "metadata": {},
   "outputs": [],
   "source": [
    "cd ko1"
   ]
  },
  {
   "cell_type": "code",
   "execution_count": 12,
   "metadata": {},
   "outputs": [
    {
     "name": "stdout",
     "output_type": "stream",
     "text": [
      "/home/jupyter-orissim/ko1\n"
     ]
    }
   ],
   "source": [
    "pwd"
   ]
  },
  {
   "cell_type": "code",
   "execution_count": 13,
   "metadata": {},
   "outputs": [],
   "source": [
    "touch 1.jpg"
   ]
  },
  {
   "cell_type": "code",
   "execution_count": 14,
   "metadata": {},
   "outputs": [],
   "source": [
    "touch 2.mp3"
   ]
  },
  {
   "cell_type": "code",
   "execution_count": 15,
   "metadata": {},
   "outputs": [],
   "source": [
    "touch 3.txt"
   ]
  },
  {
   "cell_type": "code",
   "execution_count": 16,
   "metadata": {},
   "outputs": [],
   "source": [
    "touch 4.png"
   ]
  },
  {
   "cell_type": "code",
   "execution_count": 17,
   "metadata": {},
   "outputs": [],
   "source": [
    "touch 5.png"
   ]
  },
  {
   "cell_type": "code",
   "execution_count": 18,
   "metadata": {},
   "outputs": [],
   "source": [
    "touch 6.jpg"
   ]
  },
  {
   "cell_type": "code",
   "execution_count": 19,
   "metadata": {},
   "outputs": [
    {
     "name": "stdout",
     "output_type": "stream",
     "text": [
      "1.jpg  2.mp3  3.txt  4.png  5.png  6.jpg\n"
     ]
    }
   ],
   "source": [
    "ls"
   ]
  },
  {
   "cell_type": "code",
   "execution_count": 20,
   "metadata": {},
   "outputs": [],
   "source": [
    "touch a.txt"
   ]
  },
  {
   "cell_type": "code",
   "execution_count": 21,
   "metadata": {},
   "outputs": [],
   "source": [
    "touch b.png"
   ]
  },
  {
   "cell_type": "code",
   "execution_count": 22,
   "metadata": {},
   "outputs": [],
   "source": [
    "touch c.jpg"
   ]
  },
  {
   "cell_type": "code",
   "execution_count": 23,
   "metadata": {},
   "outputs": [],
   "source": [
    "touch d.txt"
   ]
  },
  {
   "cell_type": "code",
   "execution_count": 24,
   "metadata": {},
   "outputs": [
    {
     "name": "stdout",
     "output_type": "stream",
     "text": [
      "1.jpg  2.mp3  3.txt  4.png  5.png  6.jpg  a.txt  b.png  c.jpg  d.txt\n"
     ]
    }
   ],
   "source": [
    "ls"
   ]
  },
  {
   "cell_type": "code",
   "execution_count": 25,
   "metadata": {},
   "outputs": [
    {
     "name": "stdout",
     "output_type": "stream",
     "text": [
      "1.jpg  6.jpg  c.jpg\n"
     ]
    }
   ],
   "source": [
    "ls *.jpg"
   ]
  },
  {
   "cell_type": "code",
   "execution_count": 26,
   "metadata": {},
   "outputs": [
    {
     "name": "stdout",
     "output_type": "stream",
     "text": [
      "a.txt  d.txt\n"
     ]
    }
   ],
   "source": [
    "ls *[a-z].txt"
   ]
  },
  {
   "cell_type": "code",
   "execution_count": 28,
   "metadata": {},
   "outputs": [
    {
     "name": "stdout",
     "output_type": "stream",
     "text": [
      "3.txt\n"
     ]
    }
   ],
   "source": [
    "ls *[3].txt"
   ]
  },
  {
   "cell_type": "code",
   "execution_count": 29,
   "metadata": {},
   "outputs": [
    {
     "name": "stdout",
     "output_type": "stream",
     "text": [
      "1.jpg  2.mp3  3.txt  4.png  5.png  6.jpg  a.txt  b.png  c.jpg  d.txt\n"
     ]
    }
   ],
   "source": [
    "ls -k"
   ]
  },
  {
   "cell_type": "code",
   "execution_count": 30,
   "metadata": {},
   "outputs": [
    {
     "name": "stdout",
     "output_type": "stream",
     "text": [
      "total 8\n",
      "drwxr-xr-x 2 jupyter-orissim jupyter-orissim 4096 Apr  3 23:58 .\n",
      "drwxr-x--- 9 jupyter-orissim jupyter-orissim 4096 Apr  4 00:00 ..\n",
      "-rw-r--r-- 1 jupyter-orissim jupyter-orissim    0 Apr  3 23:55 1.jpg\n",
      "-rw-r--r-- 1 jupyter-orissim jupyter-orissim    0 Apr  3 23:55 2.mp3\n",
      "-rw-r--r-- 1 jupyter-orissim jupyter-orissim    0 Apr  3 23:55 3.txt\n",
      "-rw-r--r-- 1 jupyter-orissim jupyter-orissim    0 Apr  3 23:56 4.png\n",
      "-rw-r--r-- 1 jupyter-orissim jupyter-orissim    0 Apr  3 23:56 5.png\n",
      "-rw-r--r-- 1 jupyter-orissim jupyter-orissim    0 Apr  3 23:56 6.jpg\n",
      "-rw-r--r-- 1 jupyter-orissim jupyter-orissim    0 Apr  3 23:57 a.txt\n",
      "-rw-r--r-- 1 jupyter-orissim jupyter-orissim    0 Apr  3 23:57 b.png\n",
      "-rw-r--r-- 1 jupyter-orissim jupyter-orissim    0 Apr  3 23:57 c.jpg\n",
      "-rw-r--r-- 1 jupyter-orissim jupyter-orissim    0 Apr  3 23:58 d.txt\n"
     ]
    }
   ],
   "source": [
    "ls -al"
   ]
  },
  {
   "cell_type": "code",
   "execution_count": 32,
   "metadata": {},
   "outputs": [
    {
     "name": "stdout",
     "output_type": "stream",
     "text": [
      "/home/jupyter-orissim/ko1\n"
     ]
    }
   ],
   "source": [
    "pwd"
   ]
  },
  {
   "cell_type": "code",
   "execution_count": 33,
   "metadata": {},
   "outputs": [],
   "source": [
    "cd .."
   ]
  },
  {
   "cell_type": "code",
   "execution_count": 34,
   "metadata": {},
   "outputs": [
    {
     "name": "stdout",
     "output_type": "stream",
     "text": [
      "/home/jupyter-orissim\n"
     ]
    }
   ],
   "source": [
    "pwd"
   ]
  },
  {
   "cell_type": "code",
   "execution_count": 35,
   "metadata": {},
   "outputs": [
    {
     "name": "stdout",
     "output_type": "stream",
     "text": [
      "ko1      orissim3.ipynb  Untitled1.ipynb  Untitled3.ipynb\n",
      "orissim  shared          Untitled2.ipynb  Untitled.ipynb\n"
     ]
    }
   ],
   "source": [
    "ls"
   ]
  },
  {
   "cell_type": "code",
   "execution_count": 36,
   "metadata": {},
   "outputs": [
    {
     "name": "stdout",
     "output_type": "stream",
     "text": [
      "total 0\n",
      "-rw-r--r-- 1 jupyter-orissim jupyter-orissim 0 Apr  3 23:55 1.jpg\n",
      "-rw-r--r-- 1 jupyter-orissim jupyter-orissim 0 Apr  3 23:55 2.mp3\n",
      "-rw-r--r-- 1 jupyter-orissim jupyter-orissim 0 Apr  3 23:55 3.txt\n",
      "-rw-r--r-- 1 jupyter-orissim jupyter-orissim 0 Apr  3 23:56 4.png\n",
      "-rw-r--r-- 1 jupyter-orissim jupyter-orissim 0 Apr  3 23:56 5.png\n",
      "-rw-r--r-- 1 jupyter-orissim jupyter-orissim 0 Apr  3 23:56 6.jpg\n",
      "-rw-r--r-- 1 jupyter-orissim jupyter-orissim 0 Apr  3 23:57 a.txt\n",
      "-rw-r--r-- 1 jupyter-orissim jupyter-orissim 0 Apr  3 23:57 b.png\n",
      "-rw-r--r-- 1 jupyter-orissim jupyter-orissim 0 Apr  3 23:57 c.jpg\n",
      "-rw-r--r-- 1 jupyter-orissim jupyter-orissim 0 Apr  3 23:58 d.txt\n"
     ]
    }
   ],
   "source": [
    "ls -l ko1"
   ]
  },
  {
   "cell_type": "code",
   "execution_count": 40,
   "metadata": {},
   "outputs": [
    {
     "name": "stdout",
     "output_type": "stream",
     "text": [
      "/home/jupyter-orissim\n"
     ]
    }
   ],
   "source": [
    "pwd"
   ]
  },
  {
   "cell_type": "code",
   "execution_count": 41,
   "metadata": {},
   "outputs": [],
   "source": [
    "cd ko1"
   ]
  },
  {
   "cell_type": "code",
   "execution_count": 42,
   "metadata": {},
   "outputs": [
    {
     "name": "stdout",
     "output_type": "stream",
     "text": [
      "1.jpg  2.mp3  3.txt  4.png  5.png  6.jpg  a.txt  b.png  c.jpg  d.txt\n"
     ]
    }
   ],
   "source": [
    "ls"
   ]
  },
  {
   "cell_type": "code",
   "execution_count": 45,
   "metadata": {},
   "outputs": [],
   "source": [
    "cd .."
   ]
  },
  {
   "cell_type": "code",
   "execution_count": 46,
   "metadata": {},
   "outputs": [],
   "source": [
    "cd ko2"
   ]
  },
  {
   "cell_type": "code",
   "execution_count": 47,
   "metadata": {},
   "outputs": [],
   "source": [
    "touch version"
   ]
  },
  {
   "cell_type": "code",
   "execution_count": 48,
   "metadata": {},
   "outputs": [
    {
     "name": "stdout",
     "output_type": "stream",
     "text": [
      "-rw-r--r-- 1 jupyter-orissim jupyter-orissim 0 Apr  4 00:20 version\n"
     ]
    }
   ],
   "source": [
    "ls -l version"
   ]
  },
  {
   "cell_type": "code",
   "execution_count": 49,
   "metadata": {},
   "outputs": [],
   "source": [
    "chmod u-w version"
   ]
  },
  {
   "cell_type": "code",
   "execution_count": 50,
   "metadata": {},
   "outputs": [
    {
     "name": "stdout",
     "output_type": "stream",
     "text": [
      "-r--r--r-- 1 jupyter-orissim jupyter-orissim 0 Apr  4 00:20 version\n"
     ]
    }
   ],
   "source": [
    "ls -l version"
   ]
  },
  {
   "cell_type": "code",
   "execution_count": 51,
   "metadata": {},
   "outputs": [],
   "source": [
    "chmod u+w version"
   ]
  },
  {
   "cell_type": "code",
   "execution_count": 52,
   "metadata": {},
   "outputs": [],
   "source": [
    "chmod g-r version"
   ]
  },
  {
   "cell_type": "code",
   "execution_count": 53,
   "metadata": {},
   "outputs": [],
   "source": [
    "chmod o-r version"
   ]
  },
  {
   "cell_type": "code",
   "execution_count": 54,
   "metadata": {},
   "outputs": [
    {
     "name": "stdout",
     "output_type": "stream",
     "text": [
      "-rw------- 1 jupyter-orissim jupyter-orissim 0 Apr  4 00:20 version\n"
     ]
    }
   ],
   "source": [
    "ls -l version"
   ]
  },
  {
   "cell_type": "code",
   "execution_count": 55,
   "metadata": {},
   "outputs": [],
   "source": [
    "chmod g+w version"
   ]
  },
  {
   "cell_type": "code",
   "execution_count": 56,
   "metadata": {},
   "outputs": [],
   "source": [
    "chmod o+x version"
   ]
  },
  {
   "cell_type": "code",
   "execution_count": 57,
   "metadata": {},
   "outputs": [
    {
     "name": "stdout",
     "output_type": "stream",
     "text": [
      "-rw--w---x 1 jupyter-orissim jupyter-orissim 0 Apr  4 00:20 version\n"
     ]
    }
   ],
   "source": [
    "ls -l version"
   ]
  },
  {
   "cell_type": "code",
   "execution_count": 58,
   "metadata": {},
   "outputs": [],
   "source": [
    "chmod g+r version"
   ]
  },
  {
   "cell_type": "code",
   "execution_count": 59,
   "metadata": {},
   "outputs": [],
   "source": [
    "chmod o-x version"
   ]
  },
  {
   "cell_type": "code",
   "execution_count": 60,
   "metadata": {},
   "outputs": [],
   "source": [
    "chmod o+r version"
   ]
  },
  {
   "cell_type": "code",
   "execution_count": 61,
   "metadata": {},
   "outputs": [
    {
     "name": "stdout",
     "output_type": "stream",
     "text": [
      "-rw-rw-r-- 1 jupyter-orissim jupyter-orissim 0 Apr  4 00:20 version\n"
     ]
    }
   ],
   "source": [
    "ls -l version"
   ]
  },
  {
   "cell_type": "code",
   "execution_count": null,
   "metadata": {},
   "outputs": [],
   "source": []
  }
 ],
 "metadata": {
  "kernelspec": {
   "display_name": "Bash",
   "language": "bash",
   "name": "bash"
  },
  "language_info": {
   "codemirror_mode": "shell",
   "file_extension": ".sh",
   "mimetype": "text/x-sh",
   "name": "bash"
  }
 },
 "nbformat": 4,
 "nbformat_minor": 4
}
