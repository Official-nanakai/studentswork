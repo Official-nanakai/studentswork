{
 "cells": [
  {
   "cell_type": "code",
   "execution_count": 1,
   "metadata": {},
   "outputs": [
    {
     "name": "stdout",
     "output_type": "stream",
     "text": [
      "Thu Apr  2 01:12:04 UTC 2020\n"
     ]
    }
   ],
   "source": [
    "date"
   ]
  },
  {
   "cell_type": "code",
   "execution_count": 2,
   "metadata": {},
   "outputs": [
    {
     "name": "stdout",
     "output_type": "stream",
     "text": [
      "/home/jupyter-nurlaura2\n"
     ]
    }
   ],
   "source": [
    "pwd"
   ]
  },
  {
   "cell_type": "code",
   "execution_count": 7,
   "metadata": {},
   "outputs": [],
   "source": [
    "cd /"
   ]
  },
  {
   "cell_type": "code",
   "execution_count": 8,
   "metadata": {},
   "outputs": [
    {
     "name": "stdout",
     "output_type": "stream",
     "text": [
      "bin    etc             lib         mkdir  root  srv       usr\n",
      "boot   home            lib64       mnt    run   swap.img  var\n",
      "cdrom  initrd.img      lost+found  opt    sbin  sys       vmlinuz\n",
      "dev    initrd.img.old  media       proc   snap  tmp       vmlinuz.old\n"
     ]
    }
   ],
   "source": [
    "ls"
   ]
  },
  {
   "cell_type": "code",
   "execution_count": 9,
   "metadata": {},
   "outputs": [],
   "source": [
    "cd bin"
   ]
  },
  {
   "cell_type": "code",
   "execution_count": 10,
   "metadata": {},
   "outputs": [
    {
     "name": "stdout",
     "output_type": "stream",
     "text": [
      "bash                egrep       nc.openbsd     ss\n",
      "btrfs               false       netcat         static-sh\n",
      "btrfsck             fgconsole   netstat        stty\n",
      "btrfs-debug-tree    fgrep       networkctl     su\n",
      "btrfs-find-root     findmnt     nisdomainname  sync\n",
      "btrfs-image         fsck.btrfs  ntfs-3g        systemctl\n",
      "btrfs-map-logical   fuser       ntfs-3g.probe  systemd\n",
      "btrfs-select-super  fusermount  ntfscat        systemd-ask-password\n",
      "btrfstune           getfacl     ntfscluster    systemd-escape\n",
      "btrfs-zero-log      grep        ntfscmp        systemd-hwdb\n",
      "bunzip2             gunzip      ntfsfallocate  systemd-inhibit\n",
      "busybox             gzexe       ntfsfix        systemd-machine-id-setup\n",
      "bzcat               gzip        ntfsinfo       systemd-notify\n",
      "bzcmp               hostname    ntfsls         systemd-sysusers\n",
      "bzdiff              ip          ntfsmove       systemd-tmpfiles\n",
      "bzegrep             journalctl  ntfsrecover    systemd-tty-ask-password-agent\n",
      "bzexe               kbd_mode    ntfssecaudit   tar\n",
      "bzfgrep             kill        ntfstruncate   tempfile\n",
      "bzgrep              kmod        ntfsusermap    touch\n",
      "bzip2               less        ntfswipe       true\n",
      "bzip2recover        lessecho    open           udevadm\n",
      "bzless              lessfile    openvt         ulockmgr_server\n",
      "bzmore              lesskey     pidof          umount\n",
      "cat                 lesspipe    ping           uname\n",
      "chacl               ln          ping4          uncompress\n",
      "chgrp               loadkeys    ping6          unicode_start\n",
      "chmod               login       plymouth       vdir\n",
      "chown               loginctl    ps             wdctl\n",
      "chvt                lowntfs-3g  pwd            which\n",
      "cp                  ls          rbash          whiptail\n",
      "cpio                lsblk       readlink       ypdomainname\n",
      "dash                lsmod       red            zcat\n",
      "date                mkdir       rm             zcmp\n",
      "dd                  mkfs.btrfs  rmdir          zdiff\n",
      "df                  mknod       rnano          zegrep\n",
      "dir                 mktemp      run-parts      zfgrep\n",
      "dmesg               more        rzsh           zforce\n",
      "dnsdomainname       mount       sed            zgrep\n",
      "domainname          mountpoint  setfacl        zless\n",
      "dumpkeys            mt          setfont        zmore\n",
      "echo                mt-gnu      setupcon       znew\n",
      "ed                  mv          sh             zsh\n",
      "efibootdump         nano        sh.distrib     zsh5\n",
      "efibootmgr          nc          sleep\n"
     ]
    }
   ],
   "source": [
    "la"
   ]
  },
  {
   "cell_type": "code",
   "execution_count": 11,
   "metadata": {},
   "outputs": [],
   "source": [
    "cd .."
   ]
  },
  {
   "cell_type": "code",
   "execution_count": 12,
   "metadata": {},
   "outputs": [],
   "source": [
    "cd boot"
   ]
  },
  {
   "cell_type": "code",
   "execution_count": 13,
   "metadata": {},
   "outputs": [
    {
     "name": "stdout",
     "output_type": "stream",
     "text": [
      "config-4.15.0-88-generic      initrd.img-4.15.0-91-generic\n",
      "config-4.15.0-91-generic      System.map-4.15.0-88-generic\n",
      "efi                           System.map-4.15.0-91-generic\n",
      "grub                          vmlinuz-4.15.0-88-generic\n",
      "initrd.img-4.15.0-88-generic  vmlinuz-4.15.0-91-generic\n"
     ]
    }
   ],
   "source": [
    "ls"
   ]
  },
  {
   "cell_type": "code",
   "execution_count": 14,
   "metadata": {},
   "outputs": [],
   "source": [
    "cd grub"
   ]
  },
  {
   "cell_type": "code",
   "execution_count": 15,
   "metadata": {},
   "outputs": [
    {
     "name": "stdout",
     "output_type": "stream",
     "text": [
      "default  grub.cfg  locale    menu.lst~    x86_64-efi\n",
      "fonts    grubenv   menu.lst  unicode.pf2\n"
     ]
    }
   ],
   "source": [
    "ls"
   ]
  },
  {
   "cell_type": "code",
   "execution_count": 18,
   "metadata": {},
   "outputs": [],
   "source": [
    "cd ./../.."
   ]
  },
  {
   "cell_type": "code",
   "execution_count": 19,
   "metadata": {},
   "outputs": [
    {
     "name": "stdout",
     "output_type": "stream",
     "text": [
      "bin    etc             lib         mkdir  root  srv       usr\n",
      "boot   home            lib64       mnt    run   swap.img  var\n",
      "cdrom  initrd.img      lost+found  opt    sbin  sys       vmlinuz\n",
      "dev    initrd.img.old  media       proc   snap  tmp       vmlinuz.old\n"
     ]
    }
   ],
   "source": [
    "ls"
   ]
  },
  {
   "cell_type": "code",
   "execution_count": 20,
   "metadata": {},
   "outputs": [],
   "source": [
    "cd etc"
   ]
  },
  {
   "cell_type": "code",
   "execution_count": 21,
   "metadata": {},
   "outputs": [
    {
     "name": "stdout",
     "output_type": "stream",
     "text": [
      "acpi                    inputrc                  protocols\n",
      "adduser.conf            iproute2                 python\n",
      "alternatives            iscsi                    python2.7\n",
      "apache2                 issue                    python3\n",
      "apm                     issue.net                python3.6\n",
      "apparmor                java-11-openjdk          python3.8\n",
      "apparmor.d              kernel                   rc0.d\n",
      "apport                  kernel-img.conf          rc1.d\n",
      "apt                     landscape                rc2.d\n",
      "at.deny                 ldap                     rc3.d\n",
      "bash.bashrc             ld.so.cache              rc4.d\n",
      "bash_completion         ld.so.conf               rc5.d\n",
      "bash_completion.d       ld.so.conf.d             rc6.d\n",
      "bindresvport.blacklist  legal                    rc.local\n",
      "binfmt.d                libaudit.conf            rcS.d\n",
      "byobu                   libnl-3                  resolv.conf\n",
      "ca-certificates         libpaper.d               rmt\n",
      "ca-certificates.conf    lighttpd                 rpc\n",
      "calendar                locale.alias             rsyslog.conf\n",
      "cloud                   locale.gen               rsyslog.d\n",
      "console-setup           localtime                screenrc\n",
      "cron.d                  logcheck                 securetty\n",
      "cron.daily              login.defs               security\n",
      "cron.hourly             logrotate.conf           selinux\n",
      "cron.monthly            logrotate.d              sensors3.conf\n",
      "crontab                 lsb-release              sensors.d\n",
      "cron.weekly             ltrace.conf              services\n",
      "cryptsetup-initramfs    lvm                      shadow\n",
      "crypttab                machine-id               shadow-\n",
      "dbus-1                  magic                    shells\n",
      "debconf.conf            magic.mime               skel\n",
      "debian_version          mailcap                  sos.conf\n",
      "default                 mailcap.order            ssh\n",
      "deluser.conf            manpath.config           ssl\n",
      "depmod.d                mdadm                    subgid\n",
      "dhcp                    mime.types               subgid-\n",
      "dnsmasq.d               mke2fs.conf              subuid\n",
      "dnsmasq.d-available     modprobe.d               subuid-\n",
      "dpkg                    modules                  sudoers\n",
      "environment             modules-load.d           sudoers.d\n",
      "ethertypes              mtab                     supervisord.conf\n",
      "fonts                   mysql                    sysctl.conf\n",
      "fstab                   nanorc                   sysctl.d\n",
      "fuse.conf               netplan                  systemd\n",
      "gai.conf                network                  terminfo\n",
      "ghostscript             networkd-dispatcher      texmf\n",
      "glvnd                   NetworkManager           thermald\n",
      "groff                   networks                 timezone\n",
      "group                   newt                     tmpfiles.d\n",
      "group-                  nsswitch.conf            ucf.conf\n",
      "grub.d                  octave.conf              udev\n",
      "gshadow                 opt                      ufw\n",
      "gshadow-                os-release               updatedb.conf\n",
      "gss                     overlayroot.conf         update-manager\n",
      "gtk-2.0                 pam.conf                 update-motd.d\n",
      "gtk-3.0                 pam.d                    update-notifier\n",
      "hdparm.conf             papersize                vim\n",
      "host.conf               passwd                   vmware-tools\n",
      "hostname                passwd-                  vtrgb\n",
      "hosts                   perl                     wgetrc\n",
      "hosts.allow             pm                       X11\n",
      "hosts.deny              polkit-1                 xdg\n",
      "ImageMagick-6           pollinate                zsh\n",
      "init                    popularity-contest.conf  zsh_command_not_found\n",
      "init.d                  profile\n",
      "initramfs-tools         profile.d\n"
     ]
    }
   ],
   "source": [
    "ls"
   ]
  },
  {
   "cell_type": "code",
   "execution_count": 22,
   "metadata": {},
   "outputs": [
    {
     "name": "stdout",
     "output_type": "stream",
     "text": [
      "events\n"
     ]
    }
   ],
   "source": [
    "ls acpi"
   ]
  },
  {
   "cell_type": "code",
   "execution_count": 23,
   "metadata": {},
   "outputs": [
    {
     "name": "stdout",
     "output_type": "stream",
     "text": [
      "ls: cannot access 'events': No such file or directory\n"
     ]
    },
    {
     "ename": "",
     "evalue": "2",
     "output_type": "error",
     "traceback": []
    }
   ],
   "source": [
    "ls events"
   ]
  },
  {
   "cell_type": "code",
   "execution_count": 24,
   "metadata": {},
   "outputs": [],
   "source": [
    "cd .."
   ]
  },
  {
   "cell_type": "code",
   "execution_count": 25,
   "metadata": {},
   "outputs": [
    {
     "name": "stdout",
     "output_type": "stream",
     "text": [
      "bin    etc             lib         mkdir  root  srv       usr\n",
      "boot   home            lib64       mnt    run   swap.img  var\n",
      "cdrom  initrd.img      lost+found  opt    sbin  sys       vmlinuz\n",
      "dev    initrd.img.old  media       proc   snap  tmp       vmlinuz.old\n"
     ]
    }
   ],
   "source": [
    "ls"
   ]
  },
  {
   "cell_type": "code",
   "execution_count": 26,
   "metadata": {},
   "outputs": [],
   "source": [
    "cd lib"
   ]
  },
  {
   "cell_type": "code",
   "execution_count": 27,
   "metadata": {},
   "outputs": [
    {
     "name": "stdout",
     "output_type": "stream",
     "text": [
      "apparmor       init                                  netplan\n",
      "console-setup  klibc-wBFLvVtxy4xJqEadIBJMa78iJz8.so  open-iscsi\n",
      "cpp            libhandle.so.1                        recovery-mode\n",
      "crda           libhandle.so.1.0.3                    systemd\n",
      "cryptsetup     lsb                                   terminfo\n",
      "ebtables       modprobe.d                            udev\n",
      "firmware       modules                               ufw\n",
      "hdparm         modules-load.d                        x86_64-linux-gnu\n"
     ]
    }
   ],
   "source": [
    "ls"
   ]
  },
  {
   "cell_type": "code",
   "execution_count": 28,
   "metadata": {},
   "outputs": [],
   "source": [
    "cd .."
   ]
  },
  {
   "cell_type": "code",
   "execution_count": 29,
   "metadata": {},
   "outputs": [],
   "source": [
    "cd usr"
   ]
  },
  {
   "cell_type": "code",
   "execution_count": 30,
   "metadata": {},
   "outputs": [
    {
     "name": "stdout",
     "output_type": "stream",
     "text": [
      "/usr\n"
     ]
    }
   ],
   "source": [
    "pwd"
   ]
  },
  {
   "cell_type": "code",
   "execution_count": 31,
   "metadata": {},
   "outputs": [
    {
     "name": "stdout",
     "output_type": "stream",
     "text": [
      "bin  games  include  lib  local  sbin  share  src\n"
     ]
    }
   ],
   "source": [
    "ls"
   ]
  },
  {
   "cell_type": "code",
   "execution_count": 32,
   "metadata": {},
   "outputs": [],
   "source": [
    "cd /"
   ]
  },
  {
   "cell_type": "code",
   "execution_count": 33,
   "metadata": {},
   "outputs": [
    {
     "name": "stdout",
     "output_type": "stream",
     "text": [
      "bin    etc             lib         mkdir  root  srv       usr\n",
      "boot   home            lib64       mnt    run   swap.img  var\n",
      "cdrom  initrd.img      lost+found  opt    sbin  sys       vmlinuz\n",
      "dev    initrd.img.old  media       proc   snap  tmp       vmlinuz.old\n"
     ]
    }
   ],
   "source": [
    "ls"
   ]
  },
  {
   "cell_type": "code",
   "execution_count": 34,
   "metadata": {},
   "outputs": [],
   "source": [
    "cd home"
   ]
  },
  {
   "cell_type": "code",
   "execution_count": 35,
   "metadata": {},
   "outputs": [
    {
     "name": "stdout",
     "output_type": "stream",
     "text": [
      "azat                   jupyter-azat           jupyter-nurlaura\n",
      "jupyter-admin          jupyter-cubefiction    jupyter-nurlaura2\n",
      "jupyter-aiana178       jupyter-danenok        jupyter-official-nanakai\n",
      "jupyter-aigerimunisat  jupyter-darganius      jupyter-orissim\n",
      "jupyter-aizadait       jupyter-ekdana         jupyter-tsagynysh\n",
      "jupyter-amayakof       jupyter-inkar601       jupyter-unisat\n",
      "jupyter-amirkhan       jupyter-kkenzh         jupyter-yeldana\n",
      "jupyter-arayka         jupyter-nazymungarova  jupyter-zhandos\n",
      "jupyter-aruzhan149     jupyter-nuray.serkali  jupyter-zhanelbaltabay\n",
      "jupyter-aselleon       jupyter-nurike         jupyter-zhannaspace\n"
     ]
    }
   ],
   "source": [
    "ls"
   ]
  },
  {
   "cell_type": "code",
   "execution_count": 36,
   "metadata": {},
   "outputs": [],
   "source": [
    "cd jupyter-nurlaura2"
   ]
  },
  {
   "cell_type": "code",
   "execution_count": 37,
   "metadata": {},
   "outputs": [
    {
     "name": "stdout",
     "output_type": "stream",
     "text": [
      " hello.dio         shared             Untitled.ipynb\n",
      " nurlaura2.ipynb  'Untitled Folder'   untitled.svg\n"
     ]
    }
   ],
   "source": [
    "ls"
   ]
  },
  {
   "cell_type": "code",
   "execution_count": 38,
   "metadata": {},
   "outputs": [
    {
     "name": "stdout",
     "output_type": "stream",
     "text": [
      "hello.dio: ASCII text, with very long lines, with no line terminators\n"
     ]
    }
   ],
   "source": [
    "file hello.dio "
   ]
  },
  {
   "cell_type": "code",
   "execution_count": 39,
   "metadata": {},
   "outputs": [],
   "source": [
    "cd /"
   ]
  },
  {
   "cell_type": "code",
   "execution_count": 40,
   "metadata": {},
   "outputs": [
    {
     "name": "stdout",
     "output_type": "stream",
     "text": [
      "total 4194404\n",
      "drwxr-xr-x   2 root root       4096 Mar  6 20:45 bin\n",
      "drwxr-xr-x   4 root root       4096 Mar 17 15:26 boot\n",
      "drwxr-xr-x   2 root root       4096 Mar  6 20:32 cdrom\n",
      "drwxr-xr-x  20 root root       4000 Mar 24 22:10 dev\n",
      "drwxr-xr-x 109 root root       4096 Apr  1 06:23 etc\n",
      "drwxr-xr-x  32 root root       4096 Mar 28 00:21 home\n",
      "lrwxrwxrwx   1 root root         33 Mar 17 15:25 initrd.img -> boot/initrd.img-4.15.0-91-generic\n",
      "lrwxrwxrwx   1 root root         33 Mar  6 20:33 initrd.img.old -> boot/initrd.img-4.15.0-88-generic\n",
      "drwxr-xr-x  22 root root       4096 Mar  6 20:55 lib\n",
      "drwxr-xr-x   2 root root       4096 Feb  3 18:22 lib64\n",
      "drwx------   2 root root      16384 Mar  6 20:31 lost+found\n",
      "drwxr-xr-x   2 root root       4096 Feb  3 18:22 media\n",
      "drwxr-xr-x   2 root root       4096 Mar 10 11:55 mkdir\n",
      "drwxr-xr-x   2 root root       4096 Feb  3 18:22 mnt\n",
      "drwxr-xr-x   3 root root       4096 Mar 17 17:06 opt\n",
      "dr-xr-xr-x 166 root root          0 Mar 24 22:09 proc\n",
      "drwx------   5 root root       4096 Mar 12 21:39 root\n",
      "drwxr-xr-x  26 root root        920 Apr  1 16:29 run\n",
      "drwxr-xr-x   2 root root      12288 Mar  6 20:43 sbin\n",
      "drwxr-xr-x   4 root root       4096 Mar 17 15:24 snap\n",
      "drwxr-xr-x   3 root root       4096 Mar 17 17:21 srv\n",
      "-rw-------   1 root root 4294967296 Mar  6 20:33 swap.img\n",
      "dr-xr-xr-x  13 root root          0 Apr  1 19:32 sys\n",
      "drwxrwxrwt  26 root root       4096 Apr  1 22:53 tmp\n",
      "drwxr-xr-x  10 root root       4096 Feb  3 18:22 usr\n",
      "drwxr-xr-x  13 root root       4096 Mar 13 11:04 var\n",
      "lrwxrwxrwx   1 root root         30 Mar 17 15:25 vmlinuz -> boot/vmlinuz-4.15.0-91-generic\n",
      "lrwxrwxrwx   1 root root         30 Mar  6 20:33 vmlinuz.old -> boot/vmlinuz-4.15.0-88-generic\n"
     ]
    }
   ],
   "source": [
    "ls -l"
   ]
  },
  {
   "cell_type": "code",
   "execution_count": 41,
   "metadata": {},
   "outputs": [
    {
     "name": "stdout",
     "output_type": "stream",
     "text": [
      ".     cdrom  initrd.img      lost+found  opt   sbin      sys  vmlinuz\n",
      "..    dev    initrd.img.old  media       proc  snap      tmp  vmlinuz.old\n",
      "bin   etc    lib             mkdir       root  srv       usr\n",
      "boot  home   lib64           mnt         run   swap.img  var\n"
     ]
    }
   ],
   "source": [
    "ls -a"
   ]
  },
  {
   "cell_type": "code",
   "execution_count": 42,
   "metadata": {},
   "outputs": [
    {
     "name": "stdout",
     "output_type": "stream",
     "text": [
      "updatedb.conf (5)    - a configuration file for updatedb(8)\n",
      "apport-bug (1)       - file a bug report using Apport, or update an existing ...\n",
      "apport-collect (1)   - file a bug report using Apport, or update an existing ...\n",
      "asctime (3)          - transform date and time to broken-down time or ASCII\n",
      "asctime_r (3)        - transform date and time to broken-down time or ASCII\n",
      "byobu-reconnect-sockets (1) - Sourcable script that updates GPG_AGENT_INFO an...\n",
      "cal (1)              - displays a calendar and the date of Easter\n",
      "catman (8)           - create or update the pre-formatted manual pages\n",
      "chgpasswd (8)        - update group passwords in batch mode\n",
      "chpasswd (8)         - update passwords in batch mode\n",
      "ctime (3)            - transform date and time to broken-down time or ASCII\n",
      "ctime_r (3)          - transform date and time to broken-down time or ASCII\n",
      "date (1)             - print or set the system date and time\n",
      "Date::Format (3pm)   - Date formating subroutines\n",
      "Date::Language (3pm) - Language specific date formating and parsing\n",
      "Date::Language::Bulgarian (3pm) - localization for Date::Format\n",
      "Date::Language::Hungarian (3pm) - Magyar format for Date::Format\n",
      "Date::Parse (3pm)    - Parse date strings into time values\n",
      "dbus-update-activation-environment (1) - update environment used for D-Bus se...\n",
      "Dpkg::BuildOptions (3perl) - parse and update build options\n",
      "elfedit (1)          - Update the ELF header of ELF files.\n",
      "fc-validate (1)      - validate font files\n",
      "feupdateenv (3)      - floating-point rounding and exception handling\n",
      "ftime (3)            - return date and time\n",
      "getdate (3)          - convert a date-plus-time string to broken-down time\n",
      "getdate_err (3)      - convert a date-plus-time string to broken-down time\n",
      "getdate_r (3)        - convert a date-plus-time string to broken-down time\n",
      "ginstall-info (1)    - update info/dir entries\n",
      "git-push (1)         - Update remote refs along with associated objects\n",
      "git-submodule (1)    - Initialize, update or inspect submodules\n",
      "git-update-index (1) - Register file contents in the working tree to the index\n",
      "git-update-ref (1)   - Update the object name stored in a ref safely\n",
      "git-update-server-info (1) - Update auxiliary info file to help dumb servers\n",
      "git-verify-pack (1)  - Validate packed Git archive files\n",
      "gmtime (3)           - transform date and time to broken-down time or ASCII\n",
      "gmtime_r (3)         - transform date and time to broken-down time or ASCII\n",
      "gtk-update-icon-cache (1) - Icon theme caching utility\n",
      "HTTP::Date (3pm)     - date conversion routines\n",
      "install-info (1)     - update info/dir entries\n",
      "ip6tables-apply (8)  - a safer way to update iptables remotely\n",
      "iptables-apply (8)   - a safer way to update iptables remotely\n",
      "linux-update-symlinks (1) - maintain symlinks to default kernel and initramfs\n",
      "localtime (3)        - transform date and time to broken-down time or ASCII\n",
      "localtime_r (3)      - transform date and time to broken-down time or ASCII\n",
      "Mail::Field::Date (3pm) - a date header field\n",
      "mandb (8)            - create or update the manual page index caches\n",
      "mktime (3)           - transform date and time to broken-down time or ASCII\n",
      "ncal (1)             - displays a calendar and the date of Easter\n",
      "newusers (8)         - update and create new users in batch\n",
      "nsupdate (1)         - Dynamic DNS update utility\n",
      "ntfsdecrypt (8)      - decrypt or update NTFS files encrypted according to EFS\n",
      "ntfsrecover (8)      - Recover updates committed by Windows on an NTFS volume\n",
      "pam-auth-update (8)  - manage PAM configuration using packaged profiles\n",
      "pam_lastlog (8)      - PAM module to display date of last login and perform i...\n",
      "strftime (3)         - format date and time\n",
      "systemd-system-update-generator (8) - Generator for redirecting boot to offli...\n",
      "systemd-timedated (8) - Time and date bus mechanism\n",
      "systemd-timedated.service (8) - Time and date bus mechanism\n",
      "systemd-update-utmp (8) - Write audit and utmp updates at bootup, runlevel ch...\n",
      "systemd-update-utmp-runlevel.service (8) - Write audit and utmp updates at bo...\n",
      "systemd-update-utmp.service (8) - Write audit and utmp updates at bootup, run...\n",
      "systemd.offline-updates (7) - Implementation of offline updates in systemd\n",
      "systemd.time (7)     - Time and date specifications\n",
      "tc-csum (8)          - checksum update action\n",
      "timedatectl (1)      - Control the system time and date\n",
      "ubuntu-bug (1)       - file a bug report using Apport, or update an existing ...\n",
      "ucf (1)              - Update Configuration File: preserve user changes in co...\n",
      "ucfr (1)             - Update Configuration File Registry: associate packages...\n",
      "unix_update (8)      - Helper binary that updates the password of a given user\n",
      "update-alternatives (1) - maintain symbolic links determining default commands\n",
      "update-ca-certificates (8) - update /etc/ssl/certs and ca-certificates.crt\n",
      "update-fmtutil (8)   - generate\n",
      "update-grub (8)      - stub for grub-mkconfig\n",
      "update-grub2 (8)     - stub for grub-mkconfig\n",
      "update-icon-caches (8) - Update wrapper script for the icon caches\n",
      "update-info-dir (8)  - update or create index file from all installed info fi...\n",
      "update-initramfs (8) - generate an initramfs image\n",
      "update-initramfs.conf (5) - configuration file for update-initramfs\n",
      "update-java-alternatives (8) - update alternatives for jre/sdk installations\n",
      "update-language (8)  - generate hyphenation configuration for TeX engines\n",
      "update-language-dat (8) - generate hyphenation configuration for TeX engines\n",
      "update-language-def (8) - generate hyphenation configuration for TeX engines\n",
      "update-language-lua (8) - generate hyphenation configuration for TeX engines\n",
      "update-locale (8)    - Modify global locale settings\n",
      "update-mime (8)      - create or update MIME information\n",
      "update-mime-database (1) - a program to build the Shared MIME-Info database c...\n",
      "update-motd (5)      - dynamic MOTD generation\n",
      "update-passwd (8)    - safely update /etc/passwd, /etc/shadow and /etc/group\n",
      "update-pciids (8)    - download new version of the PCI ID list\n",
      "update-perl-sax-parsers (8) - (de)register Perl SAX parser modules\n",
      "update-rc.d (8)      - install and remove System-V style init script links\n",
      "update-texmf (8)     - shell script to generate /etc/texmf/texmf.cnf\n",
      "update-texmf-config (8) - script used in maintainer scripts to trigger tex-co...\n",
      "update-tl-stacked-conffile (8) - generate\n",
      "update-updmap (8)    - generate\n",
      "update-usbids (8)    - download new version of the USB ID list\n",
      "updatedb (8)         - update a database for mlocate\n",
      "updatedb.mlocate (8) - update a database for mlocate\n",
      "user-dirs.conf (5)   - configuration for xdg-user-dirs-update\n",
      "useradd (8)          - create a new user or update default new user information\n",
      "x86_64-linux-gnu-elfedit (1) - Update the ELF header of ELF files.\n",
      "xdg-user-dirs-update (1) - Update XDG user dir configuration\n"
     ]
    }
   ],
   "source": [
    "man -k date"
   ]
  },
  {
   "cell_type": "code",
   "execution_count": null,
   "metadata": {},
   "outputs": [],
   "source": []
  }
 ],
 "metadata": {
  "kernelspec": {
   "display_name": "Bash",
   "language": "bash",
   "name": "bash"
  },
  "language_info": {
   "codemirror_mode": "shell",
   "file_extension": ".sh",
   "mimetype": "text/x-sh",
   "name": "bash"
  }
 },
 "nbformat": 4,
 "nbformat_minor": 4
}
